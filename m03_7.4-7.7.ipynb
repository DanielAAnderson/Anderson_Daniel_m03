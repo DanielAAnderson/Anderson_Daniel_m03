{
 "cells": [
  {
   "cell_type": "code",
   "execution_count": 44,
   "id": "e1aba086-3478-4352-b2f7-c08cf9b6d780",
   "metadata": {},
   "outputs": [],
   "source": [
    "things = [\"mozzarella\", \"cinderella\", \"Salmonella\"]"
   ]
  },
  {
   "cell_type": "code",
   "execution_count": 46,
   "id": "e350e878-3d84-4abc-8fcf-474c7ce0a214",
   "metadata": {},
   "outputs": [
    {
     "name": "stdout",
     "output_type": "stream",
     "text": [
      "['mozzarella', 'cinderella', 'Salmonella']\n"
     ]
    }
   ],
   "source": [
    "print (things)"
   ]
  },
  {
   "cell_type": "code",
   "execution_count": 48,
   "id": "0b82c883-d28a-4f5a-b019-d37d82ff3209",
   "metadata": {},
   "outputs": [],
   "source": [
    "things[1] = things[1].capitalize()"
   ]
  },
  {
   "cell_type": "code",
   "execution_count": 50,
   "id": "2eafbe63-e41b-48c9-b512-3f7d7b54ec65",
   "metadata": {},
   "outputs": [
    {
     "name": "stdout",
     "output_type": "stream",
     "text": [
      "['mozzarella', 'Cinderella', 'Salmonella']\n"
     ]
    }
   ],
   "source": [
    "print (things)"
   ]
  },
  {
   "cell_type": "code",
   "execution_count": 52,
   "id": "6dbd9800-053d-4881-8e63-4a1bf176dc6b",
   "metadata": {},
   "outputs": [],
   "source": [
    "things[0] = things[0].upper()"
   ]
  },
  {
   "cell_type": "code",
   "execution_count": 54,
   "id": "480b405a-9f16-4c61-b1f0-ee7cbe04ec3a",
   "metadata": {},
   "outputs": [
    {
     "name": "stdout",
     "output_type": "stream",
     "text": [
      "['MOZZARELLA', 'Cinderella', 'Salmonella']\n"
     ]
    }
   ],
   "source": [
    "print(things)"
   ]
  },
  {
   "cell_type": "code",
   "execution_count": 56,
   "id": "f2fd8702-f585-43a5-8994-def8052aa69c",
   "metadata": {},
   "outputs": [],
   "source": [
    "things.remove('Salmonella')"
   ]
  },
  {
   "cell_type": "code",
   "execution_count": 58,
   "id": "12ac5dd7-65d9-4779-9ab5-c4d42a3cdbff",
   "metadata": {},
   "outputs": [
    {
     "name": "stdout",
     "output_type": "stream",
     "text": [
      "['MOZZARELLA', 'Cinderella']\n"
     ]
    }
   ],
   "source": [
    "print(things)"
   ]
  },
  {
   "cell_type": "code",
   "execution_count": null,
   "id": "d76556e6-87bc-4e62-81f0-11467863d83a",
   "metadata": {},
   "outputs": [],
   "source": []
  }
 ],
 "metadata": {
  "kernelspec": {
   "display_name": "Python 3 (ipykernel)",
   "language": "python",
   "name": "python3"
  },
  "language_info": {
   "codemirror_mode": {
    "name": "ipython",
    "version": 3
   },
   "file_extension": ".py",
   "mimetype": "text/x-python",
   "name": "python",
   "nbconvert_exporter": "python",
   "pygments_lexer": "ipython3",
   "version": "3.12.7"
  }
 },
 "nbformat": 4,
 "nbformat_minor": 5
}
