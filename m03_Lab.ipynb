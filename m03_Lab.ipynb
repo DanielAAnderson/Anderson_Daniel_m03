{
 "cells": [
  {
   "cell_type": "code",
   "execution_count": 17,
   "id": "2866946b-8aee-4a2c-8999-346bc498e807",
   "metadata": {},
   "outputs": [
    {
     "name": "stdout",
     "output_type": "stream",
     "text": [
      "enter the information about your car:\n"
     ]
    },
    {
     "name": "stdin",
     "output_type": "stream",
     "text": [
      "year:  2024\n",
      "make:  chevy\n",
      "model:  cruse\n",
      "How many doors 2 or 4:  2\n",
      "Type of roof (solid or sun roof):  solid\n"
     ]
    },
    {
     "name": "stdout",
     "output_type": "stream",
     "text": [
      "vehicle type:car\n",
      "year:2024\n",
      "make:chevy\n",
      "model:cruse\n",
      "doors:2\n",
      "roof:solid\n"
     ]
    }
   ],
   "source": [
    "\"\"\"\n",
    "Daniel Anderson\n",
    "version 1\n",
    "11/10/2024\n",
    "Lab programming assignement\n",
    "\"\"\"\n",
    "class vehicle():\n",
    "    def __init__(self, vehicle_type):\n",
    "        self.vehicle_type = vehicle_type\n",
    "class automobile(vehicle):\n",
    "    def __init__(self, year, make, model, doors, roof):\n",
    "        super().__init__(\"car\")\n",
    "        self.year = year\n",
    "        self.make = make\n",
    "        self.model = model\n",
    "        self.doors = doors\n",
    "        self.roof = roof\n",
    "    def display_info(self):\n",
    "        print(f\"vehicle type:{self.vehicle_type}\")\n",
    "        print(f\"year:{self.year}\")\n",
    "        print(f\"make:{self.make}\")\n",
    "        print(f\"model:{self.model}\")\n",
    "        print(f\"doors:{self.doors}\")\n",
    "        print(f\"roof:{self.roof}\")\n",
    "def main():\n",
    "    print(\"enter the information about your car:\")\n",
    "    year = input(\"year: \")\n",
    "    make = input(\"make: \")\n",
    "    model = input(\"model: \")\n",
    "    doors = input(\"How many doors 2 or 4: \")\n",
    "    roof = input(\"Type of roof (solid or sun roof): \")\n",
    "\n",
    "    car = automobile(year, make, model, doors, roof)\n",
    "\n",
    "    car.display_info()\n",
    "\n",
    "if __name__ == \"__main__\":\n",
    "    main()\n",
    "\n",
    "    \n",
    "\n",
    "\n",
    "        \n",
    "    "
   ]
  },
  {
   "cell_type": "code",
   "execution_count": null,
   "id": "c8f0c184-8d68-4fdf-ba2a-e159a32adf4d",
   "metadata": {},
   "outputs": [],
   "source": []
  }
 ],
 "metadata": {
  "kernelspec": {
   "display_name": "Python 3 (ipykernel)",
   "language": "python",
   "name": "python3"
  },
  "language_info": {
   "codemirror_mode": {
    "name": "ipython",
    "version": 3
   },
   "file_extension": ".py",
   "mimetype": "text/x-python",
   "name": "python",
   "nbconvert_exporter": "python",
   "pygments_lexer": "ipython3",
   "version": "3.12.7"
  }
 },
 "nbformat": 4,
 "nbformat_minor": 5
}
