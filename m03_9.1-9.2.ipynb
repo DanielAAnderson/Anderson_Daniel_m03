{
 "cells": [
  {
   "cell_type": "code",
   "execution_count": 7,
   "id": "e9584a2e-fd9d-4599-8d1c-ed96c2af267a",
   "metadata": {},
   "outputs": [],
   "source": [
    "def good():\n",
    "    return ['harry', 'Ron', 'hermione']"
   ]
  },
  {
   "cell_type": "code",
   "execution_count": 9,
   "id": "cbd8c2c0-453f-4bcc-9fa0-c44c08288e9f",
   "metadata": {},
   "outputs": [
    {
     "name": "stdout",
     "output_type": "stream",
     "text": [
      "['harry', 'Ron', 'hermione']\n"
     ]
    }
   ],
   "source": [
    "print(good())"
   ]
  },
  {
   "cell_type": "code",
   "execution_count": 11,
   "id": "cea7876e-9b83-467f-87b7-5cdf674954ea",
   "metadata": {},
   "outputs": [],
   "source": [
    "def get_odds():\n",
    "    for number in range(10):\n",
    "        if number % 2 != 0:  # Check if the number is odd\n",
    "            yield number"
   ]
  },
  {
   "cell_type": "code",
   "execution_count": 13,
   "id": "a1b9d852-2515-4472-9ad9-866ea20c8809",
   "metadata": {},
   "outputs": [
    {
     "name": "stdout",
     "output_type": "stream",
     "text": [
      "5\n"
     ]
    }
   ],
   "source": [
    "odd_numbers = get_odds()\n",
    "\n",
    "# Variable to keep track of the count\n",
    "count = 0\n",
    "\n",
    "# Use a for loop to get the third value\n",
    "for odd in odd_numbers:\n",
    "    count += 1\n",
    "    if count == 3:\n",
    "        print(odd)\n",
    "        break"
   ]
  },
  {
   "cell_type": "code",
   "execution_count": null,
   "id": "04814f03-18ab-4f73-8248-5d3cfcb756ea",
   "metadata": {},
   "outputs": [],
   "source": []
  }
 ],
 "metadata": {
  "kernelspec": {
   "display_name": "Python 3 (ipykernel)",
   "language": "python",
   "name": "python3"
  },
  "language_info": {
   "codemirror_mode": {
    "name": "ipython",
    "version": 3
   },
   "file_extension": ".py",
   "mimetype": "text/x-python",
   "name": "python",
   "nbconvert_exporter": "python",
   "pygments_lexer": "ipython3",
   "version": "3.12.7"
  }
 },
 "nbformat": 4,
 "nbformat_minor": 5
}
